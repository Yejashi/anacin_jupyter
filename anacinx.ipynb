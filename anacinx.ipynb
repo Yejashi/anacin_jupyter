{
 "cells": [
  {
   "cell_type": "code",
   "execution_count": 81,
   "id": "92580081",
   "metadata": {},
   "outputs": [
    {
     "name": "stdout",
     "output_type": "stream",
     "text": [
      "Enabling notebook extension jupyter-js-widgets/extension...\r\n",
      "      - Validating: \u001b[32mOK\u001b[0m\r\n"
     ]
    }
   ],
   "source": [
    "!pip install ipywidgets > /dev/null\n",
    "!jupyter nbextension enable --py widgetsnbextension\n",
    "\n",
    "from tqdm import tqdm\n",
    "from IPython.display import Image, clear_output\n",
    "import ipywidgets as widgets\n",
    "from ipywidgets import interact, interact_manual\n",
    "import os\n",
    "\n",
    "layout=widgets.Layout(width='50%')\n",
    "#Number of processes widget\n",
    "num_processes_widget = widgets.IntText(\n",
    "    value=0,\n",
    "    description='Number of processess:',\n",
    "    style= {'description_width': 'initial'},\n",
    "    layout=layout\n",
    ")\n",
    "\n",
    "#Number of runs widget\n",
    "num_runs_widget = widgets.IntText(\n",
    "    value=0,\n",
    "    description='Number of runs:',\n",
    "    style= {'description_width': 'initial'},\n",
    "    layout=layout\n",
    ")\n",
    "#Number of iterations widget\n",
    "num_iterations_widget = widgets.IntText(\n",
    "    value=0,\n",
    "    description='Number of iterations:',\n",
    "    style= {'description_width': 'initial'},\n",
    "    layout=layout\n",
    ")\n",
    "\n",
    "#PnMPI Config Widget\n",
    "pnmpi_conf_widget = widgets.Dropdown(\n",
    "    options=[('',\"\"),('csmpi', \"csmpi.conf\"), ('dumpi_csmpi', \"dumpi_csmpi.conf\"), ('dumpi_ninja', \"dumpi_ninja.conf\"), ('dumpi_pluto_csmpi', \"dumpi_pluto_csmpi.conf\"), ('dumpi', \"dumpi.conf\"), ('dumpi_csmpi_ninja', \"dumpi_csmpi_ninja.conf\"), ('dumpi_pluto', \"dumpi_pluto.conf\"), ('empty', \"empty.conf\")],\n",
    "    value='',\n",
    "    description='PnMPI Config:',\n",
    "    style= {'description_width': 'initial'},\n",
    "    continious_update=True,\n",
    "    layout=layout\n",
    ")\n",
    "\n",
    "#Executable Path Widget\n",
    "executable_widget = widgets.Text(\n",
    "    value=\"\",\n",
    "    description='Executable path:',\n",
    "    style= {'description_width': 'initial'},\n",
    "    layout=layout\n",
    ")\n",
    "\n",
    "#Executable args Widget\n",
    "executable_args_widget = widgets.Text(\n",
    "    value=\"\",\n",
    "    description='Executable args:',\n",
    "    style= {'description_width': 'initial'},\n",
    "    layout=layout\n",
    ")\n",
    "\n",
    "trace_widget = widgets.Button(\n",
    "    description='Trace',\n",
    "    style= {'description_width': 'initial'},\n",
    "    layout=layout\n",
    ")\n",
    "\n",
    "gen_event_graph_widget = widgets.Button(\n",
    "    description='Generate Event Graph',\n",
    "    style= {'description_width': 'initial'},\n",
    "    layout=layout\n",
    ")\n",
    "\n",
    "slice_extraction_widget = widgets.Button(\n",
    "    description='Extract Slices',\n",
    "    style= {'description_width': 'initial'},\n",
    "    layout=layout\n",
    ")\n",
    "\n",
    "compute_kdts_widget = widgets.Button(\n",
    "    description='Compute KDTS',\n",
    "    style= {'description_width': 'initial'},\n",
    "    layout=layout\n",
    ")\n",
    "\n",
    "create_visualization_widget = widgets.Button(\n",
    "    description='Create Visualization',\n",
    "    style= {'description_width': 'initial'},\n",
    "    layout=layout\n",
    ")\n",
    "\n",
    "display_visualization_widget = widgets.Button(\n",
    "    description='Display Visualization',\n",
    "    style= {'description_width': 'initial'},\n",
    "    layout=layout\n",
    ")\n",
    "\n",
    "benchmark_type_selector_widget = widgets.Button(\n",
    "    description='Benchmark',\n",
    "    style= {'description_width': 'initial'},\n",
    "    layout=layout\n",
    ")\n",
    "\n",
    "extern_type_selector_widget = widgets.Button(\n",
    "    description='External Application',\n",
    "    style= {'description_width': 'initial'},\n",
    "    layout=layout\n",
    ")\n",
    "\n",
    "param_num_processes = num_processes_widget.value\n",
    "param_num_runs = num_runs_widget.value\n",
    "param_num_iterations = num_iterations_widget.value\n",
    "param_pnmpi_config = pnmpi_conf_widget.value\n",
    "param_executable = executable_widget.value\n",
    "param_executable_args = executable_args_widget.value\n",
    "\n",
    "def listen_processess(change):\n",
    "    global param_num_processes\n",
    "    param_num_processes = change.new\n",
    "    \n",
    "def listen_runs(change):\n",
    "    global param_num_runs\n",
    "    param_num_runs = change.new\n",
    "    \n",
    "def listen_iterations(change):\n",
    "    global param_num_iterations\n",
    "    param_num_iterations = change.new\n",
    "    \n",
    "def listen_pnmpi(change):\n",
    "    global param_pnmpi_config\n",
    "    param_pnmpi_config = change.new\n",
    "\n",
    "def listen_executable(change):\n",
    "    global param_executable\n",
    "    param_executable = change.new   \n",
    "    \n",
    "def listen_args(change):\n",
    "    global param_executable_args\n",
    "    param_executable_args = change.new  \n",
    "# print(param_num_processes)\n",
    "# print(param_num_runs)\n",
    "# print(param_num_iterations)\n",
    "# print(param_pnmpi_config)\n",
    "# print(param_executable)\n",
    "# print(param_executable_args)\n",
    "\n",
    "    \n",
    "def on_button_clicked_0(button):\n",
    "#     with output:\n",
    "#         print(\"Button clicked.\")\n",
    "    clear_output()\n",
    "    display(button)\n",
    "    if button == trace_widget:\n",
    "        print(\"Tracing...\")\n",
    "        clean_output_dir(\"/home/bbogale/results/\")\n",
    "#         def trace_execution(executable_path, args, num_processes, num_runs, num_iterations, pnmpi_conf, output_dir):\n",
    "#         trace_execution(\"/ANACIN-X/apps/comm_pattern_generator/build/comm_pattern_generator\", \"/home/bbogale/results/message_race_msg_size_512_niters_5_ndp_0.0_0.1_1.0.json /ANACIN-X/anacin-x/config\", 30, 10, \"dumpi_pluto_csmpi.conf\", \"/home/bbogale/results\")\n",
    "        trace_execution(\"/ANACIN-X/apps/comm_pattern_generator/build/comm_pattern_generator\", \"/home/bbogale/results/message_race_msg_size_512_niters_5_ndp_0.0_0.1_1.0.json /ANACIN-X/anacin-x/config\", param_num_processes, param_num_runs, param_num_iterations, param_pnmpi_config, \"/home/bbogale/results\")\n",
    "    elif button == gen_event_graph_widget:\n",
    "        print(\"Generating Event Graph...\")\n",
    "#         generate_event_graph(30, 10, \"dumpi_and_csmpi.json\", \"/home/bbogale/results/\")\n",
    "        generate_event_graph(param_num_processes, param_num_runs, \"dumpi_and_csmpi.json\", \"/home/bbogale/results/\")\n",
    "    elif button == slice_extraction_widget:\n",
    "        print(\"Extracting Slices...\")\n",
    "#         extract_slices(30, 10,  \"barrier_delimited_full.json\", \"/home/bbogale/results/\")\n",
    "        extract_slices(param_num_processes, param_num_runs,  \"barrier_delimited_full.json\", \"/home/bbogale/results/\")\n",
    "    elif button == compute_kdts_widget:\n",
    "        print(\"Computing the KDTS...\")\n",
    "#         compute_kdts(30, \"barrier_delimited_full.json\", \"/home/bbogale/results/\")\n",
    "        compute_kdts(param_num_processes, \"barrier_delimited_full.json\", \"/home/bbogale/results/\")        \n",
    "        print(\"Done!\")\n",
    "    elif button == create_visualization_widget:\n",
    "        print(\"Creating Visualization...\")\n",
    "        !apptainer exec instance://anacin_jupyter_instance \\\n",
    "        bash -c 'cd /ANACIN-X ; python3 anacin-x/event_graph_analysis/visualization/make_message_nd_plot.py \\\n",
    "        /home/bbogale/results/kdts.pkl \\\n",
    "        message_race \\\n",
    "        anacin-x/event_graph_analysis/graph_kernel_policies/wlst_5iters_logical_timestamp_label.json \\\n",
    "        /home/bbogale/results/kdts \\\n",
    "        0.0 0.1 1.0'\n",
    "    elif button == display_visualization_widget:\n",
    "#         display(display_visualization_widget)\n",
    "        display(Image(filename=\"/home/bbogale/results//kdts.png\"))\n",
    "    \n",
    "def on_button_clicked_1(button):\n",
    "    clear_output()\n",
    "    display(widgets.HBox([benchmark_type_selector_widget, extern_type_selector_widget]))\n",
    "    if button == benchmark_type_selector_widget:\n",
    "        display(num_processes_widget, num_runs_widget, num_iterations_widget, pnmpi_conf_widget)\n",
    "    elif button == extern_type_selector_widget:\n",
    "        display(num_processes_widget, num_runs_widget, num_iterations_widget, pnmpi_conf_widget, executable_widget, executable_args_widget)\n",
    "    \n",
    "num_processes_widget.observe(listen_processess, names='value')\n",
    "num_runs_widget.observe(listen_runs, names='value')\n",
    "num_iterations_widget.observe(listen_iterations, names='value')\n",
    "pnmpi_conf_widget.observe(listen_pnmpi, names='value')\n",
    "executable_widget.observe(listen_executable, names='value')\n",
    "executable_args_widget.observe(listen_args, names='value')\n",
    "\n",
    "trace_widget.on_click(on_button_clicked_0)\n",
    "gen_event_graph_widget.on_click(on_button_clicked_0)\n",
    "slice_extraction_widget.on_click(on_button_clicked_0)\n",
    "compute_kdts_widget.on_click(on_button_clicked_0)\n",
    "create_visualization_widget.on_click(on_button_clicked_0)\n",
    "display_visualization_widget.on_click(on_button_clicked_0)\n",
    "\n",
    "benchmark_type_selector_widget.on_click(on_button_clicked_1)\n",
    "extern_type_selector_widget.on_click(on_button_clicked_1)\n",
    "\n",
    "\n"
   ]
  },
  {
   "cell_type": "code",
   "execution_count": 4,
   "id": "c74089af",
   "metadata": {},
   "outputs": [],
   "source": [
    "def create_instance(home_dir, image_path):\n",
    "    #!apptainer instance start -H /home/bbogale/results/ dir_anacinx/ anacin\n",
    "    cmd = 'apptainer instance start -H {} {} anacin_jupyter_instance'.format(home_dir, image_path)\n",
    "    #!apptainer instance start -H home_dir image_path instance_name\n",
    "    !{cmd}"
   ]
  },
  {
   "cell_type": "code",
   "execution_count": 6,
   "id": "6dfc9ac7",
   "metadata": {},
   "outputs": [
    {
     "name": "stdout",
     "output_type": "stream",
     "text": [
      "\u001b[34mINFO:   \u001b[0m instance started successfully\r\n"
     ]
    }
   ],
   "source": [
    "create_instance(\"/home/bbogale/results\", \"/home/bbogale/dir_anacinx\")"
   ]
  },
  {
   "cell_type": "code",
   "execution_count": 5,
   "id": "3ce1220c",
   "metadata": {},
   "outputs": [],
   "source": [
    "def kill_instance():\n",
    "    !apptainer instance stop anacin_jupyter_instance"
   ]
  },
  {
   "cell_type": "code",
   "execution_count": 5,
   "id": "8304cd36",
   "metadata": {},
   "outputs": [
    {
     "name": "stdout",
     "output_type": "stream",
     "text": [
      "\u001b[34mINFO:   \u001b[0m Stopping anacin_jupyter_instance instance of /home/bbogale/dir_anacinx (PID=71978)\r\n"
     ]
    }
   ],
   "source": [
    "kill_instance()"
   ]
  },
  {
   "cell_type": "code",
   "execution_count": 56,
   "id": "d99a808c",
   "metadata": {},
   "outputs": [],
   "source": [
    "def clean_output_dir(output_dir):\n",
    "    #implement error checking\n",
    "    os.system(\"rm -rf {}/*\".format(output_dir))"
   ]
  },
  {
   "cell_type": "code",
   "execution_count": 57,
   "id": "b8c6474a",
   "metadata": {},
   "outputs": [],
   "source": [
    "def trace_execution(executable_path, args, num_processes, num_runs, num_iterations, pnmpi_conf, output_dir):\n",
    "\n",
    "    \n",
    "    #For benchmark\n",
    "    #Add functionality to choose message type\n",
    "#     !apptainer exec instance://anacin_jupyter_instance \\\n",
    "#     python3 /ANACIN-X/apps/comm_pattern_generator/config/json_gen.py \\\n",
    "#     \"naive_reduce\" 512 5 \"/home/bbogale/results/\" 0.0 0.1 1.0\n",
    "    !apptainer exec instance://anacin_jupyter_instance \\\n",
    "    python3 /ANACIN-X/apps/comm_pattern_generator/config/json_gen.py \\\n",
    "    \"naive_reduce\" 512 {num_iterations} \"/home/bbogale/results/\" 0.0 0.1 1.0\n",
    "    \n",
    "    !apptainer exec instance://anacin_jupyter_instance cp  /ANACIN-X/submodules/CSMPI/config/default_glibc.json {output_dir}\n",
    "    \n",
    "    for i in tqdm(range(0,int(num_runs))):\n",
    "        #Create run directory\n",
    "        run_dir = \"{}/run_{}/\".format(output_dir, str(i).rjust(3, \"0\"))\n",
    "        !mkdir {run_dir}\n",
    "        \n",
    "        #Copy CSMPI config file to run directories\n",
    "        !cp {output_dir}/default_glibc.json {run_dir}/\n",
    "\n",
    "        !sed -i 's|null|'{run_dir}'|g' {run_dir}/default_glibc.json\n",
    "        \n",
    "        !cd {run_dir} ; mpirun -np {num_processes} apptainer exec \\\n",
    "        --env LD_PRELOAD=/ANACIN-X/submodules/PnMPI/build/lib/libpnmpi.so \\\n",
    "        --env PNMPI_LIB_PATH=/ANACIN-X/anacin-x/pnmpi/patched_libs \\\n",
    "        --env PNMPI_CONF=/ANACIN-X/anacin-x/pnmpi/configs/{pnmpi_conf} \\\n",
    "        --env CSMPI_CONFIG={run_dir}/default_glibc.json \\\n",
    "        instance://anacin_jupyter_instance {executable_path} {args} > /dev/null\n",
    "        \n",
    "   \n",
    "    #Delete CSMPI conf from output dir\n",
    "    !rm {output_dir}/default_glibc.json"
   ]
  },
  {
   "cell_type": "code",
   "execution_count": 58,
   "id": "370c37e6",
   "metadata": {},
   "outputs": [],
   "source": [
    "def generate_event_graph(num_processess, num_runs, dumpi_config,  output_dir):\n",
    "    #Come back to this later and add config selection functionality\n",
    "    dumpi_to_graph_bin=\"/ANACIN-X/submodules/dumpi_to_graph/build/dumpi_to_graph\"\n",
    "    #dumpi_to_graph_config=\"/ANACIN-X/submodules/dumpi_to_graph/config/\" + {dumpi_config}\n",
    "    dumpi_to_graph_config=\"/ANACIN-X/submodules/dumpi_to_graph/config/\"\n",
    "\n",
    "    #dumpi_to_graph_config=\"/ANACIN-X/submodules/dumpi_to_graph/config/dumpi_and_csmpi.json\"\n",
    "\n",
    "    \n",
    "    for i in tqdm(range(0, num_runs)):\n",
    "        run_dir = \"{}/run_{}/\".format(output_dir, str(i).rjust(3, \"0\"))\n",
    "        !cd {run_dir} ; \\\n",
    "        mpirun -np {num_processess} apptainer exec instance://anacin_jupyter_instance {dumpi_to_graph_bin} {dumpi_to_graph_config}{dumpi_config} {run_dir} > /dev/null\n",
    "    \n",
    "    #!mpirun -np {num_processess} {dumpi_to_graph_bin} {dumpi_to_graph_config} {run_dir}"
   ]
  },
  {
   "cell_type": "code",
   "execution_count": 59,
   "id": "2524a07b",
   "metadata": {},
   "outputs": [],
   "source": [
    "def extract_slices(num_processess, num_runs, slicing_policy_config, output_dir):\n",
    "    #Add functionality to select custom slicing policies\n",
    "    #slicing_policy=\"/ANACIN-X/anacin-x/event_graph_analysis/slicing_policies/barrier_delimited_full.json\"\n",
    "    #slicing_policy=\"/ANACIN-X/anacin-x/event_graph_analysis/slicing_policies/\" + {slicing_policy_config}\n",
    "    slicing_policy=\"/ANACIN-X/anacin-x/event_graph_analysis/slicing_policies/\"\n",
    "\n",
    "    \n",
    "    for i in tqdm(range(0, num_runs)):\n",
    "        run_dir = \"{}/run_{}/\".format(output_dir, str(i).rjust(3, \"0\"))\n",
    "        !cd {run_dir} ; mpirun -np {num_processess} \\\n",
    "        apptainer exec instance://anacin_jupyter_instance \\\n",
    "        /ANACIN-X/anacin-x/event_graph_analysis/extract_slices.py {run_dir}/\"event_graph.graphml\" {slicing_policy}{slicing_policy_config} -o \"slices\" > /dev/null"
   ]
  },
  {
   "cell_type": "code",
   "execution_count": 60,
   "id": "7f321589",
   "metadata": {},
   "outputs": [],
   "source": [
    "def compute_kdts(num_processess, slicing_policy_config, output_dir):\n",
    "    #Consult Jack about this\n",
    "    graph_kernel_policy = \"/ANACIN-X/anacin-x/event_graph_analysis/graph_kernel_policies/wlst_5iters_logical_timestamp_label.json\"\n",
    "    #slicing_policy=\"/ANACIN-X/anacin-x/event_graph_analysis/slicing_policies/barrier_delimited_full.json\"\n",
    "    slicing_policy=\"/ANACIN-X/anacin-x/event_graph_analysis/slicing_policies/\"\n",
    "    \n",
    "    !cd {output_dir} ; \\\n",
    "    mpirun -np {num_processess} apptainer exec instance://anacin_jupyter_instance \\\n",
    "    /ANACIN-X/anacin-x/event_graph_analysis/compute_kernel_distance_time_series.py \\\n",
    "    {output_dir} {graph_kernel_policy} --slicing_policy {slicing_policy}{slicing_policy_config} -o \"kdts.pkl\" --slice_dir_name {output_dir}/\"slices\" -c > /dev/null"
   ]
  },
  {
   "cell_type": "code",
   "execution_count": 61,
   "id": "59db8a18",
   "metadata": {},
   "outputs": [],
   "source": [
    "def create_graph(output_dir):\n",
    "    #Consult Jack, this is something that definetly needs to be fixed\n",
    "    exec_dir = \"/ANACIN-X/anacin-x/event_graph_analysis/\"\n",
    "    kdts_path = output_dir + \"/kdts.pkl\"\n",
    "\n",
    "    !apptainer exec instance://anacin_jupyter_instance \\\n",
    "    python3 {exec_dir}/visualization/visualize_kernel_distance_time_series.py {kdts_path} --plot_type=box -o {output_dir} \n",
    "    \n",
    "    #Image(filename=output_dir+\"/kdts.png\")\n",
    "    \n",
    "    \n",
    "    "
   ]
  },
  {
   "cell_type": "markdown",
   "id": "eb588eaa",
   "metadata": {},
   "source": [
    "### Demonstration\n",
    "- We will follow each step of the execution process:\n",
    "    1. Trace execution\n",
    "    2. Event graph generation\n",
    "    3. Slice extraction\n",
    "    2. Visualization"
   ]
  },
  {
   "cell_type": "markdown",
   "id": "88d0cf19",
   "metadata": {},
   "source": [
    "### Raw Executation"
   ]
  },
  {
   "cell_type": "code",
   "execution_count": 15,
   "id": "37d97b99",
   "metadata": {},
   "outputs": [],
   "source": [
    "clean_output_dir(\"/home/bbogale/results/\")"
   ]
  },
  {
   "cell_type": "code",
   "execution_count": 19,
   "id": "cc285eeb",
   "metadata": {},
   "outputs": [
    {
     "name": "stderr",
     "output_type": "stream",
     "text": [
      "100%|████████████████████████████████████████████████| 10/10 [00:29<00:00,  2.99s/it]\n"
     ]
    }
   ],
   "source": [
    "trace_execution(\"/ANACIN-X/apps/comm_pattern_generator/build/comm_pattern_generator\", \"/home/bbogale/results/message_race_msg_size_512_niters_5_ndp_0.0_0.1_1.0.json /ANACIN-X/anacin-x/config\", 30, 10, 5, \"dumpi_pluto_csmpi.conf\", \"/home/bbogale/results\")"
   ]
  },
  {
   "cell_type": "code",
   "execution_count": 20,
   "id": "c32f72d0",
   "metadata": {},
   "outputs": [
    {
     "name": "stderr",
     "output_type": "stream",
     "text": [
      "100%|████████████████████████████████████████████████| 10/10 [00:26<00:00,  2.69s/it]\n"
     ]
    }
   ],
   "source": [
    "generate_event_graph(30, 10, \"dumpi_and_csmpi.json\", \"/home/bbogale/results/\")"
   ]
  },
  {
   "cell_type": "code",
   "execution_count": 21,
   "id": "ed79cc0a",
   "metadata": {},
   "outputs": [
    {
     "name": "stderr",
     "output_type": "stream",
     "text": [
      "100%|████████████████████████████████████████████████| 10/10 [00:35<00:00,  3.53s/it]\n"
     ]
    }
   ],
   "source": [
    "extract_slices(30, 10,  \"barrier_delimited_full.json\", \"/home/bbogale/results/\")"
   ]
  },
  {
   "cell_type": "code",
   "execution_count": 22,
   "id": "d844f4f2",
   "metadata": {},
   "outputs": [],
   "source": [
    "compute_kdts(30, \"barrier_delimited_full.json\", \"/home/bbogale/results/\")"
   ]
  },
  {
   "cell_type": "code",
   "execution_count": 70,
   "id": "83541353",
   "metadata": {},
   "outputs": [
    {
     "name": "stdout",
     "output_type": "stream",
     "text": [
      "Your Pearson's r value     = 0.5\r\n",
      "\r\n",
      "It's corresponding p value = 1.1603165014108233e-32\r\n",
      "\r\n",
      "\r\n",
      "\r\n",
      "Your Spearman's ρ value    = 0.5\r\n",
      "\r\n",
      "It's corresponding p value = 1.4582369623774334e-32\r\n",
      "\r\n"
     ]
    }
   ],
   "source": [
    "!apptainer exec instance://anacin_jupyter_instance \\\n",
    "bash -c 'cd /ANACIN-X ; python3 anacin-x/event_graph_analysis/visualization/make_message_nd_plot.py \\\n",
    "/home/bbogale/results/kdts.pkl \\\n",
    "message_race \\\n",
    "anacin-x/event_graph_analysis/graph_kernel_policies/wlst_5iters_logical_timestamp_label.json \\\n",
    "/home/bbogale/results/kdts \\\n",
    "0.0 0.1 1.0'"
   ]
  },
  {
   "cell_type": "code",
   "execution_count": 70,
   "id": "9eee5b0d",
   "metadata": {
    "collapsed": true
   },
   "outputs": [
    {
     "data": {
      "image/png": "[encoded data removed]",
      "text/plain": [
       "<IPython.core.display.Image object>"
      ]
     },
     "execution_count": 70,
     "metadata": {},
     "output_type": "execute_result"
    }
   ],
   "source": [
    "Image(filename=\"/home/bbogale/results//kdts.png\")"
   ]
  },
  {
   "cell_type": "markdown",
   "id": "ac4eb1a0",
   "metadata": {},
   "source": [
    "### Widget Based Execution"
   ]
  },
  {
   "cell_type": "code",
   "execution_count": 83,
   "id": "f4eb7626",
   "metadata": {
    "tags": [
     "hide-input"
    ]
   },
   "outputs": [
    {
     "data": {
      "application/vnd.jupyter.widget-view+json": {
       "model_id": "803aa05764654558b90fd8d9e67af551",
       "version_major": 2,
       "version_minor": 0
      },
      "text/plain": [
       "HBox(children=(Button(description='Benchmark', layout=Layout(width='50%'), style=ButtonStyle()), Button(descri…"
      ]
     },
     "metadata": {},
     "output_type": "display_data"
    },
    {
     "data": {
      "application/vnd.jupyter.widget-view+json": {
       "model_id": "249d09cf4c824dbc8140069ce39f337f",
       "version_major": 2,
       "version_minor": 0
      },
      "text/plain": [
       "IntText(value=0, description='Number of processess:', layout=Layout(width='50%'), style=DescriptionStyle(descr…"
      ]
     },
     "metadata": {},
     "output_type": "display_data"
    },
    {
     "data": {
      "application/vnd.jupyter.widget-view+json": {
       "model_id": "b9ee9a93ab7f439a9210c26c84635552",
       "version_major": 2,
       "version_minor": 0
      },
      "text/plain": [
       "IntText(value=0, description='Number of runs:', layout=Layout(width='50%'), style=DescriptionStyle(description…"
      ]
     },
     "metadata": {},
     "output_type": "display_data"
    },
    {
     "data": {
      "application/vnd.jupyter.widget-view+json": {
       "model_id": "31961b9ab61e43eead5e744468746bde",
       "version_major": 2,
       "version_minor": 0
      },
      "text/plain": [
       "IntText(value=0, description='Number of iterations:', layout=Layout(width='50%'), style=DescriptionStyle(descr…"
      ]
     },
     "metadata": {},
     "output_type": "display_data"
    },
    {
     "data": {
      "application/vnd.jupyter.widget-view+json": {
       "model_id": "ffc38f11d8d046c39bc9501c1c3cf6e7",
       "version_major": 2,
       "version_minor": 0
      },
      "text/plain": [
       "Dropdown(description='PnMPI Config:', layout=Layout(width='50%'), options=(('', ''), ('csmpi', 'csmpi.conf'), …"
      ]
     },
     "metadata": {},
     "output_type": "display_data"
    }
   ],
   "source": [
    "display(widgets.HBox([benchmark_type_selector_widget, extern_type_selector_widget]))"
   ]
  },
  {
   "cell_type": "code",
   "execution_count": 85,
   "id": "48e3c7d3",
   "metadata": {},
   "outputs": [
    {
     "name": "stdout",
     "output_type": "stream",
     "text": [
      "30\n",
      "10\n",
      "5\n",
      "dumpi_pluto_csmpi.conf\n",
      "\n",
      "\n"
     ]
    }
   ],
   "source": [
    "print(param_num_processes)\n",
    "print(param_num_runs)\n",
    "print(param_num_iterations)\n",
    "print(param_pnmpi_config)\n",
    "print(param_executable)\n",
    "print(param_executable_args)"
   ]
  },
  {
   "cell_type": "markdown",
   "id": "eaeb53cf",
   "metadata": {},
   "source": [
    "### Execution"
   ]
  },
  {
   "cell_type": "code",
   "execution_count": 86,
   "id": "6a6a5ea3",
   "metadata": {},
   "outputs": [
    {
     "data": {
      "application/vnd.jupyter.widget-view+json": {
       "model_id": "faff6db6885a46a1b65b81108f5bdd7b",
       "version_major": 2,
       "version_minor": 0
      },
      "text/plain": [
       "Button(description='Trace', layout=Layout(width='50%'), style=ButtonStyle())"
      ]
     },
     "metadata": {},
     "output_type": "display_data"
    },
    {
     "name": "stdout",
     "output_type": "stream",
     "text": [
      "Tracing...\n"
     ]
    },
    {
     "name": "stderr",
     "output_type": "stream",
     "text": [
      "100%|█████████████████████████████████████████| 10/10 [00:30<00:00,  3.01s/it]\n"
     ]
    }
   ],
   "source": [
    "display(trace_widget)"
   ]
  },
  {
   "cell_type": "code",
   "execution_count": 87,
   "id": "041b3243",
   "metadata": {},
   "outputs": [
    {
     "data": {
      "application/vnd.jupyter.widget-view+json": {
       "model_id": "e9f43dcc7b0246ce9ba80e2a01888a66",
       "version_major": 2,
       "version_minor": 0
      },
      "text/plain": [
       "Button(description='Generate Event Graph', layout=Layout(width='50%'), style=ButtonStyle())"
      ]
     },
     "metadata": {},
     "output_type": "display_data"
    },
    {
     "name": "stdout",
     "output_type": "stream",
     "text": [
      "Generating Event Graph...\n"
     ]
    },
    {
     "name": "stderr",
     "output_type": "stream",
     "text": [
      "100%|█████████████████████████████████████████| 10/10 [00:27<00:00,  2.73s/it]\n"
     ]
    }
   ],
   "source": [
    "display(gen_event_graph_widget)"
   ]
  },
  {
   "cell_type": "code",
   "execution_count": 88,
   "id": "02105741",
   "metadata": {},
   "outputs": [
    {
     "data": {
      "application/vnd.jupyter.widget-view+json": {
       "model_id": "eca67d6903d249b3ad2fd5c4c4df724e",
       "version_major": 2,
       "version_minor": 0
      },
      "text/plain": [
       "Button(description='Extract Slices', layout=Layout(width='50%'), style=ButtonStyle())"
      ]
     },
     "metadata": {},
     "output_type": "display_data"
    },
    {
     "name": "stdout",
     "output_type": "stream",
     "text": [
      "Extracting Slices...\n"
     ]
    },
    {
     "name": "stderr",
     "output_type": "stream",
     "text": [
      " 60%|█████████████████████████▏                | 6/10 [00:22<00:14,  3.71s/it]"
     ]
    }
   ],
   "source": [
    "display(slice_extraction_widget)"
   ]
  },
  {
   "cell_type": "code",
   "execution_count": 89,
   "id": "566914a4",
   "metadata": {},
   "outputs": [
    {
     "data": {
      "application/vnd.jupyter.widget-view+json": {
       "model_id": "eac2fb74ea0d4338bc0ca71780fda881",
       "version_major": 2,
       "version_minor": 0
      },
      "text/plain": [
       "Button(description='Compute KDTS', layout=Layout(width='50%'), style=ButtonStyle())"
      ]
     },
     "metadata": {},
     "output_type": "display_data"
    }
   ],
   "source": [
    "display(compute_kdts_widget)"
   ]
  },
  {
   "cell_type": "code",
   "execution_count": 90,
   "id": "2feb99fd",
   "metadata": {},
   "outputs": [
    {
     "data": {
      "application/vnd.jupyter.widget-view+json": {
       "model_id": "dfc8c08bb28b4687a287bc0139eb6cce",
       "version_major": 2,
       "version_minor": 0
      },
      "text/plain": [
       "Button(description='Create Visualization', layout=Layout(width='50%'), style=ButtonStyle())"
      ]
     },
     "metadata": {},
     "output_type": "display_data"
    }
   ],
   "source": [
    "display(create_visualization_widget)"
   ]
  },
  {
   "cell_type": "markdown",
   "id": "307384c7",
   "metadata": {},
   "source": [
    "### Visualization"
   ]
  },
  {
   "cell_type": "code",
   "execution_count": 91,
   "id": "4e1375d9",
   "metadata": {},
   "outputs": [
    {
     "data": {
      "application/vnd.jupyter.widget-view+json": {
       "model_id": "2a816377093841a996e04d2211f8a988",
       "version_major": 2,
       "version_minor": 0
      },
      "text/plain": [
       "Button(description='Display Visualization', layout=Layout(width='50%'), style=ButtonStyle())"
      ]
     },
     "metadata": {},
     "output_type": "display_data"
    }
   ],
   "source": [
    "display(display_visualization_widget)"
   ]
  },
  {
   "cell_type": "code",
   "execution_count": 82,
   "id": "382faf86",
   "metadata": {
    "scrolled": false
   },
   "outputs": [
    {
     "data": {
      "application/vnd.jupyter.widget-view+json": {
       "model_id": "bc1b8878723547329adf35cbe15d74ac",
       "version_major": 2,
       "version_minor": 0
      },
      "text/plain": [
       "HBox(children=(Button(description='Benchmark', layout=Layout(width='50%'), style=ButtonStyle()), Button(descri…"
      ]
     },
     "metadata": {},
     "output_type": "display_data"
    },
    {
     "data": {
      "application/vnd.jupyter.widget-view+json": {
       "model_id": "249d09cf4c824dbc8140069ce39f337f",
       "version_major": 2,
       "version_minor": 0
      },
      "text/plain": [
       "IntText(value=0, description='Number of processess:', layout=Layout(width='50%'), style=DescriptionStyle(descr…"
      ]
     },
     "metadata": {},
     "output_type": "display_data"
    },
    {
     "data": {
      "application/vnd.jupyter.widget-view+json": {
       "model_id": "b9ee9a93ab7f439a9210c26c84635552",
       "version_major": 2,
       "version_minor": 0
      },
      "text/plain": [
       "IntText(value=0, description='Number of runs:', layout=Layout(width='50%'), style=DescriptionStyle(description…"
      ]
     },
     "metadata": {},
     "output_type": "display_data"
    },
    {
     "data": {
      "application/vnd.jupyter.widget-view+json": {
       "model_id": "31961b9ab61e43eead5e744468746bde",
       "version_major": 2,
       "version_minor": 0
      },
      "text/plain": [
       "IntText(value=0, description='Number of iterations:', layout=Layout(width='50%'), style=DescriptionStyle(descr…"
      ]
     },
     "metadata": {},
     "output_type": "display_data"
    },
    {
     "data": {
      "application/vnd.jupyter.widget-view+json": {
       "model_id": "ffc38f11d8d046c39bc9501c1c3cf6e7",
       "version_major": 2,
       "version_minor": 0
      },
      "text/plain": [
       "Dropdown(description='PnMPI Config:', layout=Layout(width='50%'), options=(('', ''), ('csmpi', 'csmpi.conf'), …"
      ]
     },
     "metadata": {},
     "output_type": "display_data"
    }
   ],
   "source": [
    "display(widgets.HBox([benchmark_type_selector_widget, extern_type_selector_widget]))"
   ]
  }
 ],
 "metadata": {
  "kernelspec": {
   "display_name": "Python 3 (ipykernel)",
   "language": "python",
   "name": "python3"
  },
  "language_info": {
   "codemirror_mode": {
    "name": "ipython",
    "version": 3
   },
   "file_extension": ".py",
   "mimetype": "text/x-python",
   "name": "python",
   "nbconvert_exporter": "python",
   "pygments_lexer": "ipython3",
   "version": "3.9.16"
  }
 },
 "nbformat": 4,
 "nbformat_minor": 5
}
