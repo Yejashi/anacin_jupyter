{
 "cells": [
  {
   "cell_type": "code",
   "execution_count": 28,
   "id": "92580081",
   "metadata": {},
   "outputs": [
    {
     "name": "stdout",
     "output_type": "stream",
     "text": [
      "Enabling notebook extension jupyter-js-widgets/extension...\r\n",
      "      - Validating: \u001b[32mOK\u001b[0m\r\n"
     ]
    }
   ],
   "source": [
    "!pip install ipywidgets > /dev/null\n",
    "!jupyter nbextension enable --py widgetsnbextension\n",
    "\n",
    "import os\n",
    "from tqdm import tqdm\n",
    "from IPython.display import Image, clear_output\n",
    "import ipywidgets as widgets\n",
    "from ipywidgets import interact, interact_manual\n",
    "# from anacinx_misc import *\n",
    "%run -i anacinx_misc.py"
   ]
  },
  {
   "cell_type": "code",
   "execution_count": 30,
   "id": "287c7469",
   "metadata": {},
   "outputs": [
    {
     "data": {
      "application/vnd.jupyter.widget-view+json": {
       "model_id": "5b0daeda23774eeb9f511646391cdf9a",
       "version_major": 2,
       "version_minor": 0
      },
      "text/plain": [
       "Text(value='', description='Enter output directory path:', layout=Layout(width='50%'), style=DescriptionStyle(…"
      ]
     },
     "metadata": {},
     "output_type": "display_data"
    }
   ],
   "source": [
    "display(output_dir_widget)"
   ]
  },
  {
   "cell_type": "code",
   "execution_count": 31,
   "id": "0016e021",
   "metadata": {},
   "outputs": [
    {
     "data": {
      "application/vnd.jupyter.widget-view+json": {
       "model_id": "461a448cf63a4303913431a389c396c6",
       "version_major": 2,
       "version_minor": 0
      },
      "text/plain": [
       "Text(value='', description='Enter container image path:', layout=Layout(width='50%'), style=DescriptionStyle(d…"
      ]
     },
     "metadata": {},
     "output_type": "display_data"
    }
   ],
   "source": [
    "display(image_path_widget)"
   ]
  },
  {
   "cell_type": "code",
   "execution_count": 32,
   "id": "c74089af",
   "metadata": {},
   "outputs": [],
   "source": [
    "def create_instance(home_dir, image_path):\n",
    "    #!apptainer instance start -H /home/bbogale/results/ dir_anacinx/ anacin\n",
    "    cmd = 'apptainer instance start -H {} {} anacinx_jupyter_instance'.format(home_dir, image_path)\n",
    "    #!apptainer instance start -H home_dir image_path instance_name\n",
    "    !{cmd}"
   ]
  },
  {
   "cell_type": "code",
   "execution_count": 48,
   "id": "6dfc9ac7",
   "metadata": {},
   "outputs": [
    {
     "name": "stdout",
     "output_type": "stream",
     "text": [
      "\u001b[31mFATAL:  \u001b[0m instance anacinx_jupyter_instance already exists\r\n"
     ]
    }
   ],
   "source": [
    "# create_instance(\"/home/bbogale/results\", \"/home/bbogale/dir_anacinx_2\")\n",
    "create_instance(param_output_dir, param_image_path)"
   ]
  },
  {
   "cell_type": "code",
   "execution_count": 33,
   "id": "3ce1220c",
   "metadata": {},
   "outputs": [],
   "source": [
    "def kill_instance():\n",
    "    !apptainer instance stop anacinx_jupyter_instance"
   ]
  },
  {
   "cell_type": "code",
   "execution_count": 34,
   "id": "d99a808c",
   "metadata": {},
   "outputs": [],
   "source": [
    "def clean_output_dir(output_dir):\n",
    "    #implement error checking\n",
    "    if output_dir == \"\":\n",
    "        return 0\n",
    "    os.system(\"rm -rf {}/*\".format(output_dir))\n",
    "    return 1"
   ]
  },
  {
   "cell_type": "code",
   "execution_count": 35,
   "id": "b8c6474a",
   "metadata": {},
   "outputs": [],
   "source": [
    "def trace_execution(executable_path, args, num_processes, num_runs, num_iterations, pnmpi_conf, output_dir):\n",
    "\n",
    "    \n",
    "    #For benchmark\n",
    "    #Add functionality to choose message type\n",
    "#     !apptainer exec instance://anacin_jupyter_instance \\\n",
    "#     python3 /ANACIN-X/apps/comm_pattern_generator/config/json_gen.py \\\n",
    "#     \"naive_reduce\" 512 5 \"/home/bbogale/results/\" 0.0 0.1 1.0\n",
    "    \n",
    "    !apptainer exec instance://anacinx_jupyter_instance \\\n",
    "    python3 /ANACIN-X/apps/comm_pattern_generator/config/json_gen.py \\\n",
    "    \"naive_reduce\" 512 {num_iterations} \"{output_dir}/\" 0.0 0.1 1.0\n",
    "    \n",
    "    !apptainer exec instance://anacinx_jupyter_instance cp  /ANACIN-X/submodules/CSMPI/config/default_glibc.json {output_dir}\n",
    "    \n",
    "    for i in tqdm(range(0,int(num_runs))):\n",
    "        #Create run directory\n",
    "        run_dir = \"{}/run_{}/\".format(output_dir, str(i).rjust(3, \"0\"))\n",
    "        !mkdir {run_dir}\n",
    "        \n",
    "        #Copy CSMPI config file to run directories\n",
    "        !cp {output_dir}/default_glibc.json {run_dir}/\n",
    "\n",
    "        !sed -i 's|null|'{run_dir}'|g' {run_dir}/default_glibc.json\n",
    "        \n",
    "        !cd {run_dir} ; mpirun -np {num_processes} apptainer exec \\\n",
    "        --env LD_PRELOAD=/ANACIN-X/submodules/PnMPI/build/lib/libpnmpi.so \\\n",
    "        --env PNMPI_LIB_PATH=/ANACIN-X/anacin-x/pnmpi/patched_libs \\\n",
    "        --env PNMPI_CONF=/ANACIN-X/anacin-x/pnmpi/configs/{pnmpi_conf} \\\n",
    "        --env CSMPI_CONFIG={run_dir}/default_glibc.json \\\n",
    "        instance://anacinx_jupyter_instance {executable_path} {args} > /dev/null\n",
    "        \n",
    "   \n",
    "    #Delete CSMPI conf from output dir\n",
    "    !rm {output_dir}/default_glibc.json"
   ]
  },
  {
   "cell_type": "code",
   "execution_count": 36,
   "id": "370c37e6",
   "metadata": {},
   "outputs": [],
   "source": [
    "def generate_event_graph(num_processess, num_runs, dumpi_config,  output_dir):\n",
    "    #Come back to this later and add config selection functionality\n",
    "    dumpi_to_graph_bin=\"/ANACIN-X/submodules/dumpi_to_graph/build/dumpi_to_graph\"\n",
    "    #dumpi_to_graph_config=\"/ANACIN-X/submodules/dumpi_to_graph/config/\" + {dumpi_config}\n",
    "    dumpi_to_graph_config=\"/ANACIN-X/submodules/dumpi_to_graph/config/\"\n",
    "\n",
    "    #dumpi_to_graph_config=\"/ANACIN-X/submodules/dumpi_to_graph/config/dumpi_and_csmpi.json\"\n",
    "\n",
    "    \n",
    "    for i in tqdm(range(0, num_runs)):\n",
    "        run_dir = \"{}/run_{}/\".format(output_dir, str(i).rjust(3, \"0\"))\n",
    "        !cd {run_dir} ; \\\n",
    "        mpirun -np {num_processess} apptainer exec instance://anacinx_jupyter_instance {dumpi_to_graph_bin} {dumpi_to_graph_config}{dumpi_config} {run_dir} > /dev/null\n",
    "    \n",
    "    #!mpirun -np {num_processess} {dumpi_to_graph_bin} {dumpi_to_graph_config} {run_dir}"
   ]
  },
  {
   "cell_type": "code",
   "execution_count": 37,
   "id": "2524a07b",
   "metadata": {},
   "outputs": [],
   "source": [
    "def extract_slices(num_processess, num_runs, slicing_policy_config, output_dir):\n",
    "    #Add functionality to select custom slicing policies\n",
    "    #slicing_policy=\"/ANACIN-X/anacin-x/event_graph_analysis/slicing_policies/barrier_delimited_full.json\"\n",
    "    #slicing_policy=\"/ANACIN-X/anacin-x/event_graph_analysis/slicing_policies/\" + {slicing_policy_config}\n",
    "    slicing_policy=\"/ANACIN-X/anacin-x/event_graph_analysis/slicing_policies/\"\n",
    "\n",
    "    \n",
    "    for i in tqdm(range(0, num_runs)):\n",
    "        run_dir = \"{}/run_{}/\".format(output_dir, str(i).rjust(3, \"0\"))\n",
    "        !cd {run_dir} ; mpirun -np {num_processess} \\\n",
    "        apptainer exec instance://anacinx_jupyter_instance \\\n",
    "        /ANACIN-X/anacin-x/event_graph_analysis/extract_slices.py {run_dir}/\"event_graph.graphml\" {slicing_policy}{slicing_policy_config} -o \"slices\" > /dev/null"
   ]
  },
  {
   "cell_type": "code",
   "execution_count": 38,
   "id": "7f321589",
   "metadata": {},
   "outputs": [],
   "source": [
    "def compute_kdts(num_processess, slicing_policy_config, output_dir):\n",
    "    #Consult Jack about this\n",
    "    graph_kernel_policy = \"/ANACIN-X/anacin-x/event_graph_analysis/graph_kernel_policies/wlst_5iters_logical_timestamp_label.json\"\n",
    "    #slicing_policy=\"/ANACIN-X/anacin-x/event_graph_analysis/slicing_policies/barrier_delimited_full.json\"\n",
    "    slicing_policy=\"/ANACIN-X/anacin-x/event_graph_analysis/slicing_policies/\"\n",
    "    \n",
    "    !cd {output_dir} ; \\\n",
    "    mpirun -np {num_processess} apptainer exec instance://anacinx_jupyter_instance \\\n",
    "    /ANACIN-X/anacin-x/event_graph_analysis/compute_kernel_distance_time_series.py \\\n",
    "    {output_dir} {graph_kernel_policy} --slicing_policy {slicing_policy}{slicing_policy_config} -o \"kdts.pkl\" --slice_dir_name {output_dir}/\"slices\" -c > /dev/null"
   ]
  },
  {
   "cell_type": "code",
   "execution_count": 39,
   "id": "59db8a18",
   "metadata": {},
   "outputs": [],
   "source": [
    "# def create_graph(output_dir):\n",
    "#Remove hard coded paths here ---TODO---\n",
    "#     {output_dir}/kdts.pkl \\\n",
    "\n",
    "def create_graph(output_dir):\n",
    "    !apptainer exec instance://anacinx_jupyter_instance \\\n",
    "    bash -c 'python3 /ANACIN-X/anacin-x/event_graph_analysis/visualization/make_message_nd_plot.py \\\n",
    "    {output_dir}/kdts.pkl \\\n",
    "    message_race \\\n",
    "    /ANACIN-X/anacin-x/event_graph_analysis/graph_kernel_policies/wlst_5iters_logical_timestamp_label.json \\\n",
    "    {output_dir}/kdts \\\n",
    "    0.0 0.1 1.0'\n",
    "    \n",
    "    \n",
    "    "
   ]
  },
  {
   "cell_type": "markdown",
   "id": "5f0467b6",
   "metadata": {},
   "source": [
    "### Demonstration\n",
    "- We will follow each step of the execution process:\n",
    "    1. Trace execution\n",
    "    2. Event graph generation\n",
    "    3. Slice extraction\n",
    "    2. Visualization"
   ]
  },
  {
   "cell_type": "markdown",
   "id": "ac4eb1a0",
   "metadata": {},
   "source": [
    "### Widget Based Execution"
   ]
  },
  {
   "cell_type": "code",
   "execution_count": 40,
   "id": "f4eb7626",
   "metadata": {
    "tags": [
     "hide-input"
    ]
   },
   "outputs": [
    {
     "data": {
      "application/vnd.jupyter.widget-view+json": {
       "model_id": "63a4fe61b9c84aad814e579139c3ec77",
       "version_major": 2,
       "version_minor": 0
      },
      "text/plain": [
       "HBox(children=(Button(description='Benchmark', layout=Layout(width='50%'), style=ButtonStyle()), Button(descri…"
      ]
     },
     "metadata": {},
     "output_type": "display_data"
    },
    {
     "data": {
      "application/vnd.jupyter.widget-view+json": {
       "model_id": "a3a46048dd124cd5952786e459415d8b",
       "version_major": 2,
       "version_minor": 0
      },
      "text/plain": [
       "IntText(value=0, description='Number of processess:', layout=Layout(width='50%'), style=DescriptionStyle(descr…"
      ]
     },
     "metadata": {},
     "output_type": "display_data"
    },
    {
     "data": {
      "application/vnd.jupyter.widget-view+json": {
       "model_id": "114c569d2c1d493e9e09ccd821677bd5",
       "version_major": 2,
       "version_minor": 0
      },
      "text/plain": [
       "IntText(value=0, description='Number of runs:', layout=Layout(width='50%'), style=DescriptionStyle(description…"
      ]
     },
     "metadata": {},
     "output_type": "display_data"
    },
    {
     "data": {
      "application/vnd.jupyter.widget-view+json": {
       "model_id": "fdcde2b9b9b14eb898221be42442aeb6",
       "version_major": 2,
       "version_minor": 0
      },
      "text/plain": [
       "IntText(value=0, description='Number of iterations:', layout=Layout(width='50%'), style=DescriptionStyle(descr…"
      ]
     },
     "metadata": {},
     "output_type": "display_data"
    },
    {
     "data": {
      "application/vnd.jupyter.widget-view+json": {
       "model_id": "ff467a744eae4d088259794baccdd8e9",
       "version_major": 2,
       "version_minor": 0
      },
      "text/plain": [
       "Dropdown(description='PnMPI Config:', layout=Layout(width='50%'), options=(('', ''), ('csmpi', 'csmpi.conf'), …"
      ]
     },
     "metadata": {},
     "output_type": "display_data"
    }
   ],
   "source": [
    "display(widgets.HBox([benchmark_type_selector_widget, extern_type_selector_widget]))"
   ]
  },
  {
   "cell_type": "code",
   "execution_count": 41,
   "id": "6a6a5ea3",
   "metadata": {},
   "outputs": [
    {
     "data": {
      "application/vnd.jupyter.widget-view+json": {
       "model_id": "9ee9b3f79e474ed3b931d51e40919e62",
       "version_major": 2,
       "version_minor": 0
      },
      "text/plain": [
       "Button(description='Trace', layout=Layout(width='50%'), style=ButtonStyle())"
      ]
     },
     "metadata": {},
     "output_type": "display_data"
    },
    {
     "name": "stdout",
     "output_type": "stream",
     "text": [
      "Tracing...\n"
     ]
    },
    {
     "name": "stderr",
     "output_type": "stream",
     "text": [
      "100%|███████████████████████████████████████████████████████████████████████| 5/5 [00:18<00:00,  3.76s/it]\n"
     ]
    }
   ],
   "source": [
    "display(trace_widget)"
   ]
  },
  {
   "cell_type": "code",
   "execution_count": 42,
   "id": "041b3243",
   "metadata": {},
   "outputs": [
    {
     "data": {
      "application/vnd.jupyter.widget-view+json": {
       "model_id": "0ac70d4ff6a4418e914c3992997c2e35",
       "version_major": 2,
       "version_minor": 0
      },
      "text/plain": [
       "Button(description='Generate Event Graph', layout=Layout(width='50%'), style=ButtonStyle())"
      ]
     },
     "metadata": {},
     "output_type": "display_data"
    },
    {
     "name": "stdout",
     "output_type": "stream",
     "text": [
      "Generating Event Graph...\n"
     ]
    },
    {
     "name": "stderr",
     "output_type": "stream",
     "text": [
      "100%|███████████████████████████████████████████████████████████████████████| 5/5 [00:18<00:00,  3.73s/it]\n"
     ]
    }
   ],
   "source": [
    "display(gen_event_graph_widget)"
   ]
  },
  {
   "cell_type": "code",
   "execution_count": 43,
   "id": "02105741",
   "metadata": {},
   "outputs": [
    {
     "data": {
      "application/vnd.jupyter.widget-view+json": {
       "model_id": "3fcee9c8dd41402fa1bb315b64790df5",
       "version_major": 2,
       "version_minor": 0
      },
      "text/plain": [
       "Button(description='Extract Slices', layout=Layout(width='50%'), style=ButtonStyle())"
      ]
     },
     "metadata": {},
     "output_type": "display_data"
    },
    {
     "name": "stdout",
     "output_type": "stream",
     "text": [
      "Extracting Slices...\n"
     ]
    },
    {
     "name": "stderr",
     "output_type": "stream",
     "text": [
      "100%|███████████████████████████████████████████████████████████████████████| 5/5 [00:18<00:00,  3.68s/it]\n"
     ]
    }
   ],
   "source": [
    "display(slice_extraction_widget)"
   ]
  },
  {
   "cell_type": "code",
   "execution_count": 44,
   "id": "566914a4",
   "metadata": {},
   "outputs": [
    {
     "data": {
      "application/vnd.jupyter.widget-view+json": {
       "model_id": "81b8d89896fd47b9bc25aeb7d57df73d",
       "version_major": 2,
       "version_minor": 0
      },
      "text/plain": [
       "Button(description='Compute KDTS', layout=Layout(width='50%'), style=ButtonStyle())"
      ]
     },
     "metadata": {},
     "output_type": "display_data"
    },
    {
     "name": "stdout",
     "output_type": "stream",
     "text": [
      "Computing the KDTS...\n",
      "Done!\n"
     ]
    }
   ],
   "source": [
    "display(compute_kdts_widget)"
   ]
  },
  {
   "cell_type": "code",
   "execution_count": 45,
   "id": "2feb99fd",
   "metadata": {},
   "outputs": [
    {
     "data": {
      "application/vnd.jupyter.widget-view+json": {
       "model_id": "9acb03d370884cf691152da74b925b55",
       "version_major": 2,
       "version_minor": 0
      },
      "text/plain": [
       "Button(description='Create Visualization', layout=Layout(width='50%'), style=ButtonStyle())"
      ]
     },
     "metadata": {},
     "output_type": "display_data"
    },
    {
     "name": "stdout",
     "output_type": "stream",
     "text": [
      "Creating Visualization...\n",
      "Your Pearson's r value     = 0.31\n",
      "\n",
      "It's corresponding p value = 0.0010990461466744868\n",
      "\n",
      "\n",
      "\n",
      "Your Spearman's ρ value    = 0.31\n",
      "\n",
      "It's corresponding p value = 0.0010990461466744864\n",
      "\n"
     ]
    }
   ],
   "source": [
    "display(create_visualization_widget)"
   ]
  },
  {
   "cell_type": "markdown",
   "id": "307384c7",
   "metadata": {},
   "source": [
    "### Visualization"
   ]
  },
  {
   "cell_type": "code",
   "execution_count": 46,
   "id": "4e1375d9",
   "metadata": {},
   "outputs": [
    {
     "data": {
      "application/vnd.jupyter.widget-view+json": {
       "model_id": "01e9bf2608e0473e95c4bfd2716f04ac",
       "version_major": 2,
       "version_minor": 0
      },
      "text/plain": [
       "Button(description='Display Visualization', layout=Layout(width='50%'), style=ButtonStyle())"
      ]
     },
     "metadata": {},
     "output_type": "display_data"
    },
    {
     "data": {
      "image/png": "[encoded data removed]",
      "text/plain": [
       "<IPython.core.display.Image object>"
      ]
     },
     "metadata": {},
     "output_type": "display_data"
    }
   ],
   "source": [
    "display(display_visualization_widget)"
   ]
  },
  {
   "cell_type": "code",
   "execution_count": null,
   "id": "b36eeb54",
   "metadata": {},
   "outputs": [],
   "source": []
  }
 ],
 "metadata": {
  "kernelspec": {
   "display_name": "Python 3 (ipykernel)",
   "language": "python",
   "name": "python3"
  },
  "language_info": {
   "codemirror_mode": {
    "name": "ipython",
    "version": 3
   },
   "file_extension": ".py",
   "mimetype": "text/x-python",
   "name": "python",
   "nbconvert_exporter": "python",
   "pygments_lexer": "ipython3",
   "version": "3.9.16"
  }
 },
 "nbformat": 4,
 "nbformat_minor": 5
}
